{
 "cells": [
  {
   "cell_type": "code",
   "execution_count": null,
   "id": "6f35331f",
   "metadata": {},
   "outputs": [],
   "source": [
    "# <font color='blue'>Marchine Learning - Previsão Diaria do BCTUSD</font>"
   ]
  },
  {
   "cell_type": "code",
   "execution_count": null,
   "id": "45076a7c",
   "metadata": {},
   "outputs": [],
   "source": [
    "import pandas as pd\n",
    "import matplotlib.pyplot as plt\n",
    "from sklearn.linear_model import LinearRegression"
   ]
  },
  {
   "cell_type": "code",
   "execution_count": 3,
   "id": "0355856b",
   "metadata": {},
   "outputs": [],
   "source": [
    "# Base de dados do BCTUSD no período diário \n",
    "# ATUALIZAÇÃO DA BASE DE DADOS: 13/11/2021\n",
    "\n",
    "bctusd = pd.read_csv('BCTUSD_D1.csv', sep = '\\t')\n",
    "\n",
    "# Listas para treinar o algoritmo\n",
    "\n",
    "abertura = []\n",
    "for a in bctusd.Open:\n",
    "    abertura += [[a]]\n",
    "\n",
    "fechamento = []\n",
    "for f in bctusd.Close:\n",
    "    fechamento +=[[f]]\n",
    "    \n",
    "maxima = []\n",
    "for m in bctusd.High:\n",
    "    maxima +=[[m]]\n",
    "    \n",
    "minima = []\n",
    "for n in bctusd.Low:\n",
    "    minima +=[[n]]\n",
    "    \n",
    "data = []\n",
    "for d in bctusd.Time:\n",
    "    data +=[[d]]\n",
    "\n",
    "# Listas para gerar o gráfico   \n",
    "x = []\n",
    "for mm in bctusd.Time:\n",
    "    x +=[mm]\n",
    "    \n",
    "y = []\n",
    "for nn in bctusd.Close:\n",
    "    y +=[nn]"
   ]
  },
  {
   "cell_type": "code",
   "execution_count": null,
   "id": "3d1f82a5",
   "metadata": {},
   "outputs": [],
   "source": [
    "# Criando o LinearRegression()\n",
    "modeloFechamento = LinearRegression()\n",
    "modeloMaxima = LinearRegression()\n",
    "modeloMinima = LinearRegression()\n",
    "\n",
    "# Treinando o modelo\n",
    "modeloFechamento.fit(abertura, fechamento)\n",
    "modeloMaxima.fit(abertura, maxima)\n",
    "modeloMinima.fit(abertura, minima)\n",
    "print(\"Modelo Treinado\")"
   ]
  },
  {
   "cell_type": "code",
   "execution_count": null,
   "id": "f31a5749",
   "metadata": {},
   "outputs": [],
   "source": [
    "# Prevendo o preço de fechamento, informe o preço de abertura\n",
    "precoAbertura = float(input(\"Informe o preço de abertura do BCTUSD: \"))\n",
    "previsaoFechamento = modeloFechamento.predict([[precoAbertura]])\n",
    "previsaoMaxima = modeloMaxima.predict(([[precoAbertura]]))\n",
    "previsaoMinima = modeloMinima.predict(([[precoAbertura]]))\n",
    "#variacao = var(precoabertura, previsao)\n",
    "\n",
    "print(\"\\nPrevisão de FECHAMENTO do BCTUSD: U$%.2f\" % previsaoFechamento)\n",
    "print(\"\\nPrevisão da MÁXIMA do BCTUSD: U$%.2f\" % previsaoMaxima)\n",
    "print(\"\\nPrevisão da MINIMA do BCTUSD: U$%.2f\" % previsaoMinima)\n",
    "\n",
    "# Gráfico do BCTUSD\n",
    "plt.plot(x, y)\n",
    "plt.xlabel('PERÍODO')\n",
    "plt.ylabel('PREÇO U$')\n",
    "plt.title('BCTUSD TIME FRAME D1')\n",
    "plt.show()"
   ]
  }
 ],
 "metadata": {
  "kernelspec": {
   "display_name": "Python 3",
   "language": "python",
   "name": "python3"
  },
  "language_info": {
   "codemirror_mode": {
    "name": "ipython",
    "version": 3
   },
   "file_extension": ".py",
   "mimetype": "text/x-python",
   "name": "python",
   "nbconvert_exporter": "python",
   "pygments_lexer": "ipython3",
   "version": "3.8.8"
  }
 },
 "nbformat": 4,
 "nbformat_minor": 5
}
